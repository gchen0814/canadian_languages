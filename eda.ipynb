{
 "cells": [
  {
   "cell_type": "code",
   "execution_count": 5,
   "id": "9b078d91-6569-4a91-8c49-9c568c711427",
   "metadata": {},
   "outputs": [],
   "source": [
    "greeting_main = \"Hello from Main\""
   ]
  },
  {
   "cell_type": "code",
   "execution_count": 6,
   "id": "57f3865d-a9d7-4565-baf4-e999f1d96f5f",
   "metadata": {},
   "outputs": [
    {
     "data": {
      "text/plain": [
       "'Hello from Main'"
      ]
     },
     "execution_count": 6,
     "metadata": {},
     "output_type": "execute_result"
    }
   ],
   "source": [
    "greeting_main"
   ]
  },
  {
   "cell_type": "code",
   "execution_count": null,
   "id": "018bc44a-5685-4234-ba70-e9a92b4e2814",
   "metadata": {},
   "outputs": [],
   "source": []
  }
 ],
 "metadata": {
  "kernelspec": {
   "display_name": "Python 3 (ipykernel)",
   "language": "python",
   "name": "python3"
  },
  "language_info": {
   "codemirror_mode": {
    "name": "ipython",
    "version": 3
   },
   "file_extension": ".py",
   "mimetype": "text/x-python",
   "name": "python",
   "nbconvert_exporter": "python",
   "pygments_lexer": "ipython3",
   "version": "3.12.3"
  }
 },
 "nbformat": 4,
 "nbformat_minor": 5
}
